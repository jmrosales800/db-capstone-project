{
 "cells": [
  {
   "cell_type": "code",
   "execution_count": 73,
   "metadata": {},
   "outputs": [],
   "source": [
    "import mysql.connector as connector"
   ]
  },
  {
   "cell_type": "code",
   "execution_count": 74,
   "metadata": {},
   "outputs": [],
   "source": [
    "connection = connector.connect(user = \"dbUser1\", password = \"fheoKRFCiwn33%\", db = \"LittleLemonDB\")\n",
    "connection.autocommit = True"
   ]
  },
  {
   "cell_type": "code",
   "execution_count": 75,
   "metadata": {},
   "outputs": [],
   "source": [
    "cursor = connection.cursor()"
   ]
  },
  {
   "cell_type": "code",
   "execution_count": 55,
   "metadata": {},
   "outputs": [
    {
     "name": "stdout",
     "output_type": "stream",
     "text": [
      "('Tables_in_littlelemondb',)\n",
      "('Bookings',)\n",
      "('Customers',)\n",
      "('MenuItems',)\n",
      "('Menus',)\n",
      "('OrderDeliveries',)\n",
      "('Orders',)\n",
      "('ordersgt150',)\n",
      "('ordersmenuqtygt2',)\n",
      "('ordersview',)\n",
      "('Staff',)\n"
     ]
    }
   ],
   "source": [
    "show_tables_query = \"SHOW tables\" \n",
    "cursor.execute(show_tables_query)\n",
    "results = cursor.fetchall()\n",
    "col_names = cursor.column_names\n",
    "print(col_names)\n",
    "for row in results:\n",
    "    print(row)\n",
    "    "
   ]
  },
  {
   "cell_type": "code",
   "execution_count": 29,
   "metadata": {},
   "outputs": [
    {
     "name": "stdout",
     "output_type": "stream",
     "text": [
      "('CustomerID', 'Name', 'Phone', 'TotalCost')\n",
      "(1, 'Ana Iversen', '582938472983', 215)\n",
      "(5, 'Hiroki Yamane', '1239472934', 129)\n"
     ]
    }
   ],
   "source": [
    "clientsQuery = \"\"\"SELECT Customers.CustomerID, Customers.Name, Customers.Phone, Orders.TotalCost FROM Orders\n",
    "INNER JOIN Bookings using (BookingID)\n",
    "INNER JOIN Customers using (CustomerID)\n",
    "WHERE Orders.TotalCost > 60;\"\"\"\n",
    "cursor.execute(clientsQuery)\n",
    "results = cursor.fetchall()\n",
    "col_names = cursor.column_names\n",
    "print(col_names)\n",
    "for row in results:\n",
    "    print(row)\n",
    "    "
   ]
  },
  {
   "cell_type": "markdown",
   "metadata": {},
   "source": [
    "Add Booking\n",
    "\n"
   ]
  },
  {
   "cell_type": "code",
   "execution_count": 81,
   "metadata": {},
   "outputs": [
    {
     "name": "stdout",
     "output_type": "stream",
     "text": [
      "('New booking added',)\n"
     ]
    }
   ],
   "source": [
    "\n",
    "# Reconnect\n",
    "connection = connector.connect(user = \"dbUser1\", password = \"fheoKRFCiwn33%\", db = \"LittleLemonDB\")\n",
    "connection.autocommit = True\n",
    "cursor = connection.cursor()\n",
    "# SQL statement\n",
    "strMySQL = \"CALL AddBooking( 99, 99, 99, '2022-12-10')\"\n",
    "cursor.execute(strMySQL)\n",
    "results = cursor.fetchall()\n",
    "\n",
    "for row in results:\n",
    "    print(row)\n",
    "\n",
    "cursor.close()\n",
    "connection.close()\n",
    "\n"
   ]
  },
  {
   "cell_type": "markdown",
   "metadata": {},
   "source": [
    "\n",
    "Update booking"
   ]
  },
  {
   "cell_type": "code",
   "execution_count": 82,
   "metadata": {},
   "outputs": [
    {
     "name": "stdout",
     "output_type": "stream",
     "text": [
      "('Booking table 99 updated on 2022-01-10',)\n"
     ]
    }
   ],
   "source": [
    "# Reconnect\n",
    "connection = connector.connect(user = \"dbUser1\", password = \"fheoKRFCiwn33%\", db = \"LittleLemonDB\")\n",
    "connection.autocommit = True\n",
    "cursor = connection.cursor()\n",
    "# Parameters\n",
    "\n",
    "strTable = \"99\"\n",
    "strBookingDate = '\"2022-01-10\"'\n",
    "strMySQL = \"CALL UpdateBooking({}, {});\".format(strTable, strBookingDate)\n",
    "\n",
    "#Execute clause\n",
    "cursor.execute(strMySQL)\n",
    "results = cursor.fetchall()\n",
    "for row in results:\n",
    "    print(row)\n",
    "\n",
    "cursor.close()\n",
    "connection.close()"
   ]
  },
  {
   "cell_type": "markdown",
   "metadata": {},
   "source": [
    "Cancel Booking"
   ]
  },
  {
   "cell_type": "code",
   "execution_count": 83,
   "metadata": {},
   "outputs": [
    {
     "name": "stdout",
     "output_type": "stream",
     "text": [
      "('Booking 99 cancelled.',)\n"
     ]
    }
   ],
   "source": [
    "# Reconnect\n",
    "connection = connector.connect(user = \"dbUser1\", password = \"fheoKRFCiwn33%\", db = \"LittleLemonDB\")\n",
    "connection.autocommit = True\n",
    "cursor = connection.cursor()\n",
    "\n",
    "# Parameters\n",
    "strMySQL = \"CALL CancelBooking(99);\"\n",
    "\n",
    "#Execute clause\n",
    "cursor.execute(strMySQL)\n",
    "results = cursor.fetchall()\n",
    "for row in results:\n",
    "    print(row)\n",
    "\n",
    "cursor.close()\n",
    "connection.close()"
   ]
  }
 ],
 "metadata": {
  "kernelspec": {
   "display_name": "Python 3",
   "language": "python",
   "name": "python3"
  },
  "language_info": {
   "codemirror_mode": {
    "name": "ipython",
    "version": 3
   },
   "file_extension": ".py",
   "mimetype": "text/x-python",
   "name": "python",
   "nbconvert_exporter": "python",
   "pygments_lexer": "ipython3",
   "version": "3.11.3"
  },
  "orig_nbformat": 4
 },
 "nbformat": 4,
 "nbformat_minor": 2
}
