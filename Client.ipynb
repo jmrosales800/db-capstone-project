{
 "cells": [
  {
   "cell_type": "code",
   "execution_count": 1,
   "metadata": {},
   "outputs": [],
   "source": [
    "import mysql.connector as connector"
   ]
  },
  {
   "cell_type": "code",
   "execution_count": 2,
   "metadata": {},
   "outputs": [],
   "source": [
    "connection = connector.connect(user = \"dbUser1\", password = \"fheoKRFCiwn33%\", db = \"LittleLemonDB\")"
   ]
  },
  {
   "cell_type": "code",
   "execution_count": 3,
   "metadata": {},
   "outputs": [],
   "source": [
    "cursor = connection.cursor()"
   ]
  },
  {
   "cell_type": "code",
   "execution_count": 4,
   "metadata": {},
   "outputs": [
    {
     "name": "stdout",
     "output_type": "stream",
     "text": [
      "('Tables_in_littlelemondb',)\n",
      "('Bookings',)\n",
      "('Customers',)\n",
      "('MenuItems',)\n",
      "('Menus',)\n",
      "('OrderDeliveries',)\n",
      "('Orders',)\n",
      "('ordersgt150',)\n",
      "('ordersmenuqtygt2',)\n",
      "('ordersview',)\n",
      "('Staff',)\n"
     ]
    }
   ],
   "source": [
    "show_tables_query = \"SHOW tables\" \n",
    "cursor.execute(show_tables_query)\n",
    "results = cursor.fetchall()\n",
    "col_names = cursor.column_names\n",
    "print(col_names)\n",
    "for row in results:\n",
    "    print(row)\n",
    "    "
   ]
  },
  {
   "cell_type": "code",
   "execution_count": 5,
   "metadata": {},
   "outputs": [
    {
     "name": "stdout",
     "output_type": "stream",
     "text": [
      "('CustomerID', 'Name', 'Phone', 'TotalCost')\n",
      "(1, 'Ana Iversen', '582938472983', 215)\n",
      "(5, 'Hiroki Yamane', '1239472934', 129)\n"
     ]
    }
   ],
   "source": [
    "clientsQuery = \"\"\"SELECT Customers.CustomerID, Customers.Name, Customers.Phone, Orders.TotalCost FROM Orders\n",
    "INNER JOIN Bookings using (BookingID)\n",
    "INNER JOIN Customers using (CustomerID)\n",
    "WHERE Orders.TotalCost > 60;\"\"\"\n",
    "cursor.execute(clientsQuery)\n",
    "results = cursor.fetchall()\n",
    "col_names = cursor.column_names\n",
    "print(col_names)\n",
    "for row in results:\n",
    "    print(row)\n",
    "    "
   ]
  }
 ],
 "metadata": {
  "kernelspec": {
   "display_name": "Python 3",
   "language": "python",
   "name": "python3"
  },
  "language_info": {
   "codemirror_mode": {
    "name": "ipython",
    "version": 3
   },
   "file_extension": ".py",
   "mimetype": "text/x-python",
   "name": "python",
   "nbconvert_exporter": "python",
   "pygments_lexer": "ipython3",
   "version": "3.11.3"
  },
  "orig_nbformat": 4
 },
 "nbformat": 4,
 "nbformat_minor": 2
}
